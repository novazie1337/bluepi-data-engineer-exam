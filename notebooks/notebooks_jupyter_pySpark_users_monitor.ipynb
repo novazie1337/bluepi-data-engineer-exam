{
 "cells": [
  {
   "cell_type": "code",
   "execution_count": 1,
   "metadata": {},
   "outputs": [],
   "source": [
    "from pyspark.sql import SparkSession\n",
    "spark = SparkSession.builder \\\n",
    "  .appName('pySpark_users_monitoring')\\\n",
    "  .config('spark.jars', 'gs://spark-lib/bigquery/spark-bigquery-latest.jar') \\\n",
    "  .getOrCreate()"
   ]
  },
  {
   "cell_type": "code",
   "execution_count": 2,
   "metadata": {},
   "outputs": [],
   "source": [
    "spark.conf.set(\"spark.sql.repl.eagerEval.enabled\",True)"
   ]
  },
  {
   "cell_type": "code",
   "execution_count": 3,
   "metadata": {},
   "outputs": [
    {
     "name": "stdout",
     "output_type": "stream",
     "text": [
      "root\n",
      " |-- created_at: timestamp (nullable = false)\n",
      " |-- first_name: string (nullable = false)\n",
      " |-- id: string (nullable = false)\n",
      " |-- last_name: string (nullable = false)\n",
      " |-- updated_at: timestamp (nullable = false)\n",
      "\n"
     ]
    }
   ],
   "source": [
    "table = \"sirapob-bluepi-de-exam:airflow_gcs_to_bigquery.users_to_bigquery\"\n",
    "\n",
    "users_data = spark.read \\\n",
    "  .format(\"bigquery\") \\\n",
    "  .option(\"table\", table) \\\n",
    "  .option(\"timestampFormat\", \"yyyy-MM-dd HH:mm:ss\") \\\n",
    "  .load()\n",
    "\n",
    "users_data.printSchema()"
   ]
  },
  {
   "cell_type": "code",
   "execution_count": 4,
   "metadata": {},
   "outputs": [
    {
     "data": {
      "text/html": [
       "<div>\n",
       "<style scoped>\n",
       "    .dataframe tbody tr th:only-of-type {\n",
       "        vertical-align: middle;\n",
       "    }\n",
       "\n",
       "    .dataframe tbody tr th {\n",
       "        vertical-align: top;\n",
       "    }\n",
       "\n",
       "    .dataframe thead th {\n",
       "        text-align: right;\n",
       "    }\n",
       "</style>\n",
       "<table border=\"1\" class=\"dataframe\">\n",
       "  <thead>\n",
       "    <tr style=\"text-align: right;\">\n",
       "      <th></th>\n",
       "      <th>id</th>\n",
       "      <th>first_name</th>\n",
       "      <th>last_name</th>\n",
       "      <th>created_at</th>\n",
       "      <th>updated_at</th>\n",
       "    </tr>\n",
       "  </thead>\n",
       "  <tbody>\n",
       "    <tr>\n",
       "      <th>0</th>\n",
       "      <td>55514cf0-3026-404f-8ea3-f41b00bdf6b5</td>\n",
       "      <td>John</td>\n",
       "      <td>Henry</td>\n",
       "      <td>2020-02-17 01:33:57.796067</td>\n",
       "      <td>2020-02-17 01:33:57.796067</td>\n",
       "    </tr>\n",
       "    <tr>\n",
       "      <th>1</th>\n",
       "      <td>d0e73a35-ff6a-4f64-89b4-ed2b813782a3</td>\n",
       "      <td>สมบูรณ์</td>\n",
       "      <td>รุ้งแก้ว</td>\n",
       "      <td>2020-02-17 01:33:57.796067</td>\n",
       "      <td>2020-02-17 01:33:57.796067</td>\n",
       "    </tr>\n",
       "  </tbody>\n",
       "</table>\n",
       "</div>"
      ],
      "text/plain": [
       "                                     id first_name last_name  \\\n",
       "0  55514cf0-3026-404f-8ea3-f41b00bdf6b5       John     Henry   \n",
       "1  d0e73a35-ff6a-4f64-89b4-ed2b813782a3    สมบูรณ์  รุ้งแก้ว   \n",
       "\n",
       "                  created_at                 updated_at  \n",
       "0 2020-02-17 01:33:57.796067 2020-02-17 01:33:57.796067  \n",
       "1 2020-02-17 01:33:57.796067 2020-02-17 01:33:57.796067  "
      ]
     },
     "execution_count": 4,
     "metadata": {},
     "output_type": "execute_result"
    }
   ],
   "source": [
    "users_data_table = users_data \\\n",
    "  .select(\"id\", \"first_name\", \"last_name\", \"created_at\", \"updated_at\")\n",
    "\n",
    "users_data_table.toPandas()"
   ]
  }
 ],
 "metadata": {
  "kernelspec": {
   "display_name": "Python 3",
   "language": "python",
   "name": "python3"
  },
  "language_info": {
   "codemirror_mode": {
    "name": "ipython",
    "version": 3
   },
   "file_extension": ".py",
   "mimetype": "text/x-python",
   "name": "python",
   "nbconvert_exporter": "python",
   "pygments_lexer": "ipython3",
   "version": "3.6.13"
  }
 },
 "nbformat": 4,
 "nbformat_minor": 2
}
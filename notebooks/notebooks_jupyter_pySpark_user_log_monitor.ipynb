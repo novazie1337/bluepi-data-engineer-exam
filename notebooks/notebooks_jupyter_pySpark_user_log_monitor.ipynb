{
 "cells": [
  {
   "cell_type": "code",
   "execution_count": 2,
   "metadata": {},
   "outputs": [],
   "source": [
    "from pyspark.sql import SparkSession\n",
    "spark = SparkSession.builder \\\n",
    "  .appName('pySpark_user_log_monitoring')\\\n",
    "  .config('spark.jars', 'gs://spark-lib/bigquery/spark-bigquery-latest.jar') \\\n",
    "  .getOrCreate()"
   ]
  },
  {
   "cell_type": "code",
   "execution_count": 3,
   "metadata": {},
   "outputs": [],
   "source": [
    "spark.conf.set(\"spark.sql.repl.eagerEval.enabled\",True)"
   ]
  },
  {
   "cell_type": "code",
   "execution_count": 4,
   "metadata": {},
   "outputs": [
    {
     "name": "stdout",
     "output_type": "stream",
     "text": [
      "root\n",
      " |-- action: string (nullable = false)\n",
      " |-- created_at: timestamp (nullable = false)\n",
      " |-- id: string (nullable = false)\n",
      " |-- success: boolean (nullable = false)\n",
      " |-- updated_at: timestamp (nullable = false)\n",
      " |-- user_id: string (nullable = false)\n",
      "\n"
     ]
    }
   ],
   "source": [
    "table = \"sirapob-bluepi-de-exam:airflow_gcs_to_bigquery.user_log_to_bigquery\"\n",
    "\n",
    "user_log_data = spark.read \\\n",
    "  .format(\"bigquery\") \\\n",
    "  .option(\"table\", table) \\\n",
    "  .option(\"dateFormat\", \"yyyy-MM-dd HH:mm:ss\") \\\n",
    "  .load()\n",
    "\n",
    "user_log_data.printSchema()"
   ]
  },
  {
   "cell_type": "code",
   "execution_count": 5,
   "metadata": {},
   "outputs": [
    {
     "data": {
      "text/html": [
       "<div>\n",
       "<style scoped>\n",
       "    .dataframe tbody tr th:only-of-type {\n",
       "        vertical-align: middle;\n",
       "    }\n",
       "\n",
       "    .dataframe tbody tr th {\n",
       "        vertical-align: top;\n",
       "    }\n",
       "\n",
       "    .dataframe thead th {\n",
       "        text-align: right;\n",
       "    }\n",
       "</style>\n",
       "<table border=\"1\" class=\"dataframe\">\n",
       "  <thead>\n",
       "    <tr style=\"text-align: right;\">\n",
       "      <th></th>\n",
       "      <th>id</th>\n",
       "      <th>user_id</th>\n",
       "      <th>action</th>\n",
       "      <th>success</th>\n",
       "      <th>created_at</th>\n",
       "      <th>updated_at</th>\n",
       "    </tr>\n",
       "  </thead>\n",
       "  <tbody>\n",
       "    <tr>\n",
       "      <th>0</th>\n",
       "      <td>4b796e06-3178-4133-ad30-dc505bfc13f5</td>\n",
       "      <td>55514cf0-3026-404f-8ea3-f41b00bdf6b5</td>\n",
       "      <td>login</td>\n",
       "      <td>False</td>\n",
       "      <td>2020-02-17 01:46:05.934519</td>\n",
       "      <td>2020-02-17 01:46:05.934519</td>\n",
       "    </tr>\n",
       "    <tr>\n",
       "      <th>1</th>\n",
       "      <td>8745cacb-f8aa-4294-b824-2d3a5c50f171</td>\n",
       "      <td>55514cf0-3026-404f-8ea3-f41b00bdf6b5</td>\n",
       "      <td>login</td>\n",
       "      <td>False</td>\n",
       "      <td>2020-02-17 01:46:06.934519</td>\n",
       "      <td>2020-02-17 01:46:06.934519</td>\n",
       "    </tr>\n",
       "    <tr>\n",
       "      <th>2</th>\n",
       "      <td>c12bcaa2-563c-416e-91db-36d846b0feae</td>\n",
       "      <td>55514cf0-3026-404f-8ea3-f41b00bdf6b5</td>\n",
       "      <td>change password</td>\n",
       "      <td>False</td>\n",
       "      <td>2021-03-22 02:10:15.010466</td>\n",
       "      <td>2021-03-22 02:10:15.010466</td>\n",
       "    </tr>\n",
       "    <tr>\n",
       "      <th>3</th>\n",
       "      <td>6cfd027d-b50b-4855-b279-91f99ce4476d</td>\n",
       "      <td>55514cf0-3026-404f-8ea3-f41b00bdf6b5</td>\n",
       "      <td>change password</td>\n",
       "      <td>True</td>\n",
       "      <td>2020-02-17 01:50:07.934519</td>\n",
       "      <td>2020-02-17 01:50:07.934519</td>\n",
       "    </tr>\n",
       "    <tr>\n",
       "      <th>4</th>\n",
       "      <td>c0c97762-694b-45fd-a41e-7304313eab82</td>\n",
       "      <td>55514cf0-3026-404f-8ea3-f41b00bdf6b5</td>\n",
       "      <td>login</td>\n",
       "      <td>True</td>\n",
       "      <td>2020-02-17 01:56:07.934519</td>\n",
       "      <td>2020-02-17 01:56:07.934519</td>\n",
       "    </tr>\n",
       "    <tr>\n",
       "      <th>5</th>\n",
       "      <td>59131a90-62c9-40d8-899e-31c3dee8ad7e</td>\n",
       "      <td>d0e73a35-ff6a-4f64-89b4-ed2b813782a3</td>\n",
       "      <td>login</td>\n",
       "      <td>True</td>\n",
       "      <td>2020-02-17 01:48:08.934519</td>\n",
       "      <td>2020-02-17 01:48:08.934519</td>\n",
       "    </tr>\n",
       "    <tr>\n",
       "      <th>6</th>\n",
       "      <td>5bccf37b-5d03-4c54-a76e-5eb54a3290a5</td>\n",
       "      <td>d0e73a35-ff6a-4f64-89b4-ed2b813782a3</td>\n",
       "      <td>logout</td>\n",
       "      <td>True</td>\n",
       "      <td>2020-02-17 01:52:07.934519</td>\n",
       "      <td>2020-02-17 01:52:07.934519</td>\n",
       "    </tr>\n",
       "  </tbody>\n",
       "</table>\n",
       "</div>"
      ],
      "text/plain": [
       "                                     id                               user_id  \\\n",
       "0  4b796e06-3178-4133-ad30-dc505bfc13f5  55514cf0-3026-404f-8ea3-f41b00bdf6b5   \n",
       "1  8745cacb-f8aa-4294-b824-2d3a5c50f171  55514cf0-3026-404f-8ea3-f41b00bdf6b5   \n",
       "2  c12bcaa2-563c-416e-91db-36d846b0feae  55514cf0-3026-404f-8ea3-f41b00bdf6b5   \n",
       "3  6cfd027d-b50b-4855-b279-91f99ce4476d  55514cf0-3026-404f-8ea3-f41b00bdf6b5   \n",
       "4  c0c97762-694b-45fd-a41e-7304313eab82  55514cf0-3026-404f-8ea3-f41b00bdf6b5   \n",
       "5  59131a90-62c9-40d8-899e-31c3dee8ad7e  d0e73a35-ff6a-4f64-89b4-ed2b813782a3   \n",
       "6  5bccf37b-5d03-4c54-a76e-5eb54a3290a5  d0e73a35-ff6a-4f64-89b4-ed2b813782a3   \n",
       "\n",
       "            action  success                 created_at  \\\n",
       "0            login    False 2020-02-17 01:46:05.934519   \n",
       "1            login    False 2020-02-17 01:46:06.934519   \n",
       "2  change password    False 2021-03-22 02:10:15.010466   \n",
       "3  change password     True 2020-02-17 01:50:07.934519   \n",
       "4            login     True 2020-02-17 01:56:07.934519   \n",
       "5            login     True 2020-02-17 01:48:08.934519   \n",
       "6           logout     True 2020-02-17 01:52:07.934519   \n",
       "\n",
       "                  updated_at  \n",
       "0 2020-02-17 01:46:05.934519  \n",
       "1 2020-02-17 01:46:06.934519  \n",
       "2 2021-03-22 02:10:15.010466  \n",
       "3 2020-02-17 01:50:07.934519  \n",
       "4 2020-02-17 01:56:07.934519  \n",
       "5 2020-02-17 01:48:08.934519  \n",
       "6 2020-02-17 01:52:07.934519  "
      ]
     },
     "execution_count": 5,
     "metadata": {},
     "output_type": "execute_result"
    }
   ],
   "source": [
    "user_log_data_table = user_log_data \\\n",
    "  .select(\"id\", \"user_id\", \"action\", \"success\", \"created_at\", \"updated_at\")\n",
    "  \n",
    "user_log_data_table.toPandas()"
   ]
  },
  {
   "cell_type": "code",
   "execution_count": 35,
   "metadata": {},
   "outputs": [
    {
     "data": {
      "text/html": [
       "<div>\n",
       "<style scoped>\n",
       "    .dataframe tbody tr th:only-of-type {\n",
       "        vertical-align: middle;\n",
       "    }\n",
       "\n",
       "    .dataframe tbody tr th {\n",
       "        vertical-align: top;\n",
       "    }\n",
       "\n",
       "    .dataframe thead th {\n",
       "        text-align: right;\n",
       "    }\n",
       "</style>\n",
       "<table border=\"1\" class=\"dataframe\">\n",
       "  <thead>\n",
       "    <tr style=\"text-align: right;\">\n",
       "      <th></th>\n",
       "      <th>id</th>\n",
       "      <th>user_id</th>\n",
       "      <th>action</th>\n",
       "      <th>success</th>\n",
       "      <th>updated_at</th>\n",
       "    </tr>\n",
       "    <tr>\n",
       "      <th>created_at</th>\n",
       "      <th></th>\n",
       "      <th></th>\n",
       "      <th></th>\n",
       "      <th></th>\n",
       "      <th></th>\n",
       "    </tr>\n",
       "  </thead>\n",
       "  <tbody>\n",
       "    <tr>\n",
       "      <th>2020-02-17 01:46:05.934519</th>\n",
       "      <td>4b796e06-3178-4133-ad30-dc505bfc13f5</td>\n",
       "      <td>55514cf0-3026-404f-8ea3-f41b00bdf6b5</td>\n",
       "      <td>login</td>\n",
       "      <td>False</td>\n",
       "      <td>2020-02-17 01:46:05.934519</td>\n",
       "    </tr>\n",
       "    <tr>\n",
       "      <th>2020-02-17 01:46:06.934519</th>\n",
       "      <td>8745cacb-f8aa-4294-b824-2d3a5c50f171</td>\n",
       "      <td>55514cf0-3026-404f-8ea3-f41b00bdf6b5</td>\n",
       "      <td>login</td>\n",
       "      <td>False</td>\n",
       "      <td>2020-02-17 01:46:06.934519</td>\n",
       "    </tr>\n",
       "    <tr>\n",
       "      <th>2021-03-22 02:10:15.010466</th>\n",
       "      <td>c12bcaa2-563c-416e-91db-36d846b0feae</td>\n",
       "      <td>55514cf0-3026-404f-8ea3-f41b00bdf6b5</td>\n",
       "      <td>change password</td>\n",
       "      <td>False</td>\n",
       "      <td>2021-03-22 02:10:15.010466</td>\n",
       "    </tr>\n",
       "    <tr>\n",
       "      <th>2020-02-17 01:50:07.934519</th>\n",
       "      <td>6cfd027d-b50b-4855-b279-91f99ce4476d</td>\n",
       "      <td>55514cf0-3026-404f-8ea3-f41b00bdf6b5</td>\n",
       "      <td>change password</td>\n",
       "      <td>True</td>\n",
       "      <td>2020-02-17 01:50:07.934519</td>\n",
       "    </tr>\n",
       "    <tr>\n",
       "      <th>2020-02-17 01:56:07.934519</th>\n",
       "      <td>c0c97762-694b-45fd-a41e-7304313eab82</td>\n",
       "      <td>55514cf0-3026-404f-8ea3-f41b00bdf6b5</td>\n",
       "      <td>login</td>\n",
       "      <td>True</td>\n",
       "      <td>2020-02-17 01:56:07.934519</td>\n",
       "    </tr>\n",
       "  </tbody>\n",
       "</table>\n",
       "</div>"
      ],
      "text/plain": [
       "                                                              id  \\\n",
       "created_at                                                         \n",
       "2020-02-17 01:46:05.934519  4b796e06-3178-4133-ad30-dc505bfc13f5   \n",
       "2020-02-17 01:46:06.934519  8745cacb-f8aa-4294-b824-2d3a5c50f171   \n",
       "2021-03-22 02:10:15.010466  c12bcaa2-563c-416e-91db-36d846b0feae   \n",
       "2020-02-17 01:50:07.934519  6cfd027d-b50b-4855-b279-91f99ce4476d   \n",
       "2020-02-17 01:56:07.934519  c0c97762-694b-45fd-a41e-7304313eab82   \n",
       "\n",
       "                                                         user_id  \\\n",
       "created_at                                                         \n",
       "2020-02-17 01:46:05.934519  55514cf0-3026-404f-8ea3-f41b00bdf6b5   \n",
       "2020-02-17 01:46:06.934519  55514cf0-3026-404f-8ea3-f41b00bdf6b5   \n",
       "2021-03-22 02:10:15.010466  55514cf0-3026-404f-8ea3-f41b00bdf6b5   \n",
       "2020-02-17 01:50:07.934519  55514cf0-3026-404f-8ea3-f41b00bdf6b5   \n",
       "2020-02-17 01:56:07.934519  55514cf0-3026-404f-8ea3-f41b00bdf6b5   \n",
       "\n",
       "                                     action  success  \\\n",
       "created_at                                             \n",
       "2020-02-17 01:46:05.934519            login    False   \n",
       "2020-02-17 01:46:06.934519            login    False   \n",
       "2021-03-22 02:10:15.010466  change password    False   \n",
       "2020-02-17 01:50:07.934519  change password     True   \n",
       "2020-02-17 01:56:07.934519            login     True   \n",
       "\n",
       "                                           updated_at  \n",
       "created_at                                             \n",
       "2020-02-17 01:46:05.934519 2020-02-17 01:46:05.934519  \n",
       "2020-02-17 01:46:06.934519 2020-02-17 01:46:06.934519  \n",
       "2021-03-22 02:10:15.010466 2021-03-22 02:10:15.010466  \n",
       "2020-02-17 01:50:07.934519 2020-02-17 01:50:07.934519  \n",
       "2020-02-17 01:56:07.934519 2020-02-17 01:56:07.934519  "
      ]
     },
     "execution_count": 35,
     "metadata": {},
     "output_type": "execute_result"
    }
   ],
   "source": [
    "spark.conf.set(\"spark.sql.execution.arrow.enabled\", \"true\")\n",
    "\n",
    "user_log = user_log_data_table.toPandas()\n",
    "user_log.set_index('created_at', inplace=True)\n",
    "user_log.head()"
   ]
  },
  {
   "cell_type": "code",
   "execution_count": 36,
   "metadata": {},
   "outputs": [
    {
     "data": {
      "text/plain": [
       "<matplotlib.axes._subplots.AxesSubplot at 0x7f666e468d30>"
      ]
     },
     "execution_count": 36,
     "metadata": {},
     "output_type": "execute_result"
    },
    {
     "data": {
      "image/png": "[encoded data removed]",
      "text/plain": [
       "<Figure size 864x432 with 1 Axes>"
      ]
     },
     "metadata": {
      "needs_background": "light"
     },
     "output_type": "display_data"
    }
   ],
   "source": [
    "user_log.plot(kind='line',figsize=(12,6))"
   ]
  }
 ],
 "metadata": {
  "kernelspec": {
   "display_name": "Python 3",
   "language": "python",
   "name": "python3"
  },
  "language_info": {
   "codemirror_mode": {
    "name": "ipython",
    "version": 3
   },
   "file_extension": ".py",
   "mimetype": "text/x-python",
   "name": "python",
   "nbconvert_exporter": "python",
   "pygments_lexer": "ipython3",
   "version": "3.6.13"
  }
 },
 "nbformat": 4,
 "nbformat_minor": 2
}